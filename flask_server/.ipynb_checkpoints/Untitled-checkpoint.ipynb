{
 "cells": [
  {
   "cell_type": "code",
   "execution_count": 59,
   "metadata": {},
   "outputs": [],
   "source": [
    "import pandas as pd\n",
    "from sklearn import svm, preprocessing\n",
    "from sklearn.ensemble import RandomForestClassifier, AdaBoostClassifier, BaggingClassifier\n",
    "from sklearn.linear_model import LogisticRegression\n",
    "from sklearn.linear_model.base import LinearClassifierMixin\n",
    "from sklearn.neighbors import KNeighborsClassifier\n",
    "from sklearn.neural_network import MLPClassifier\n",
    "from sklearn.tree import DecisionTreeClassifier\n",
    "import numpy as np\n",
    "svc = None\n",
    "min_max_scaler = None\n",
    "\n",
    "def train_model(): # id,height,weight,steps\n",
    "\tglobal svc,min_max_scaler\n",
    "\ttrain = pd.DataFrame(pd.read_csv(\"./data/train_data.csv\")).sample(frac=1).values\n",
    "\tx_train = pd.DataFrame(train[:, 1:])\n",
    "\ty_train = train[:, 0]\n",
    "\tfeature_range = (0,1)\n",
    "\tmin_max_scaler = preprocessing.MinMaxScaler(feature_range=feature_range)\n",
    "\t# x_train = min_max_scaler.fit_transform(x_train)\n",
    "\tprint(\"Training...\")\n",
    "\t# print(x_train)\n",
    "\t#svc = svm.SVC().fit(x_train, y_train)\n",
    "\tsvc = RandomForestClassifier().fit(x_train, y_train)\n",
    "\t# svc = KNeighborsClassifier(n_neighbors=3).fit(x_train,y_train)\n",
    "\t# svc = DecisionTreeClassifier().fit(x_train,y_train)\n",
    "\t# svc = LogisticRegression().fit(x_train,y_train)\n",
    "\t# svc = MLPClassifier(hidden_layer_sizes=(100,),max_iter=2000,activation='relu',learning_rate='adaptive').fit(x_train,y_train)\n",
    "\t# svc = AdaBoostClassifier().fit(x_train,y_train)\n",
    "\t# svc = BaggingClassifier().fit(x_train,y_train)\n",
    "\t# svc = svm.LinearSVC().fit(x_train,y_train)\n",
    "\tprint(\"Training Done...\")\n"
   ]
  },
  {
   "cell_type": "code",
   "execution_count": 50,
   "metadata": {},
   "outputs": [],
   "source": [
    "\n",
    "def predict(record):# record = [height,weight,steps]\n",
    "\tglobal svc,min_max_scaler\n",
    "\tif svc == None:\n",
    "\t\ttrain_model()\n",
    "\t# test_data = pd.DataFrame(pd.read_csv(\"./testing.csv\")).fillna(0)\n",
    "\t# x_test = test_data.iloc[:,1:]\n",
    "\t# y_test = test_data.iloc[:, 0]\n",
    "\tx_test = []\n",
    "\tx_test.append(record)\n",
    "\t# y_test = [\"person_name\"]\n",
    "\t# x_test = min_max_scaler.fit_transform(x_test)\n",
    "\tprint(x_test)\n",
    "\tpredicted_result = svc.predict(x_test)\n",
    "\t# print(\"Original: \", y_test.values)\n",
    "\tprint(\"Predict Prob: \",svc.predict_proba(x_test))\n",
    "\tprint(\"Predicted:\", predicted_result)\n",
    "\t# print(\"Original Predicted\")\n",
    "\t# i=0\n",
    "\t# for result in predicted_result:\n",
    "\t    # print(y_test[i],\" \",result)\n",
    "\t    # i+=1\n",
    "\treturn svc.predict_proba(x_test)[0]\n"
   ]
  },
  {
   "cell_type": "code",
   "execution_count": 51,
   "metadata": {},
   "outputs": [
    {
     "name": "stdout",
     "output_type": "stream",
     "text": [
      "Training...\n",
      "Training Done...\n",
      "[[256, 56, 2]]\n",
      "Predict Prob:  [[0.9 0.  0.  0.  0.1 0. ]]\n",
      "Predicted: [1]\n"
     ]
    }
   ],
   "source": [
    "result = predict([256,56,2])"
   ]
  },
  {
   "cell_type": "code",
   "execution_count": 54,
   "metadata": {},
   "outputs": [
    {
     "data": {
      "text/plain": [
       "True"
      ]
     },
     "execution_count": 54,
     "metadata": {},
     "output_type": "execute_result"
    }
   ],
   "source": [
    "max(result)>0.5"
   ]
  },
  {
   "cell_type": "code",
   "execution_count": 105,
   "metadata": {},
   "outputs": [],
   "source": [
    "\n",
    "def predict_better(record):  # record = [height,weight,steps]\n",
    "    global svc, min_max_scaler\n",
    "    #occupants = User.query.all()\n",
    "    # if occupant.occupancy_status == OccupancyEnum.absent:\n",
    "    # \toccupant.occupancy_status = OccupancyEnum.present\n",
    "    # else:\n",
    "    # \toccupant.occupancy_status = OccupancyEnum.absent\n",
    "    if svc == None:\n",
    "        train_model()\n",
    "    x_test = []\n",
    "    x_test.append(record)\n",
    "#     print(x_test)\n",
    "    predicted_result = svc.predict_proba(x_test)[0]\n",
    "#     print(\"Predicted:\", predicted_result)\n",
    "    if max(predicted_result) < 0.5:\n",
    "        print(\"Guest Predicted!!\")\n",
    "        person_id =-1\n",
    "    else:\n",
    "        person_id = get_person_id(svc.classes_,predicted_result)\n",
    "    return person_id\n",
    "\n",
    "def get_person_id(classes_,predicted_result):\n",
    "    if len(predicted_result)==0:\n",
    "        return -1\n",
    "    person_id = classes_[predicted_result.tolist().index(max(predicted_result))]\n",
    "    occupants = [1,5,6]\n",
    "    print(occupants)\n",
    "    return person_id\n",
    "    "
   ]
  },
  {
   "cell_type": "code",
   "execution_count": 106,
   "metadata": {},
   "outputs": [
    {
     "name": "stdout",
     "output_type": "stream",
     "text": [
      "[1, 5, 6]\n"
     ]
    },
    {
     "data": {
      "text/plain": [
       "1"
      ]
     },
     "execution_count": 106,
     "metadata": {},
     "output_type": "execute_result"
    }
   ],
   "source": [
    "predict_better([256,56,2])"
   ]
  },
  {
   "cell_type": "code",
   "execution_count": 98,
   "metadata": {},
   "outputs": [
    {
     "data": {
      "text/plain": [
       "[]"
      ]
     },
     "execution_count": 98,
     "metadata": {},
     "output_type": "execute_result"
    }
   ],
   "source": [
    "[]"
   ]
  }
 ],
 "metadata": {
  "kernelspec": {
   "display_name": "Python 3",
   "language": "python",
   "name": "python3"
  },
  "language_info": {
   "codemirror_mode": {
    "name": "ipython",
    "version": 3
   },
   "file_extension": ".py",
   "mimetype": "text/x-python",
   "name": "python",
   "nbconvert_exporter": "python",
   "pygments_lexer": "ipython3",
   "version": "3.5.2"
  }
 },
 "nbformat": 4,
 "nbformat_minor": 2
}
